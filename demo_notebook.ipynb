{
 "cells": [
  {
   "cell_type": "code",
   "execution_count": null,
   "metadata": {},
   "outputs": [],
   "source": [
    "import os\n",
    "os.chdir('/root/')"
   ]
  },
  {
   "cell_type": "code",
   "execution_count": null,
   "metadata": {
    "colab": {
     "base_uri": "https://localhost:8080/"
    },
    "id": "I1wdef7vht0c",
    "outputId": "071fd09b-5953-4e08-cbef-b04bb1c9f679",
    "scrolled": true
   },
   "outputs": [],
   "source": [
    "# cloning SG toolkit\n",
    "if os.path.isdir('Scene')==False:\n",
    "    !git clone https://github.com/aishwaryax/SGG\n",
    "os.chdir('SGG')"
   ]
  },
  {
   "cell_type": "code",
   "execution_count": null,
   "metadata": {
    "colab": {
     "base_uri": "https://localhost:8080/"
    },
    "id": "FXF4Eo53n4wG",
    "outputId": "e1edd33d-5cee-4227-aff4-45b3436cc14a",
    "scrolled": true
   },
   "outputs": [],
   "source": [
    "# dependencies\n",
    "!python -m pip install ipython\n",
    "!python -m pip install scipy\n",
    "!python -m pip install h5py\n",
    "!python -m pip install ninja yacs cython matplotlib tqdm opencv-python overrides\n",
    "!python -m pip install torch==1.9.0+cu102 torchvision==0.10.0+cu102 torchaudio===0.9.0 -f https://download.pytorch.org/whl/torch_stable.html\n",
    "!pip install --upgrade setuptools"
   ]
  },
  {
   "cell_type": "code",
   "execution_count": null,
   "metadata": {
    "colab": {
     "base_uri": "https://localhost:8080/"
    },
    "id": "Kvoqf_zzpaLA",
    "outputId": "971e4b42-1cc3-4778-ec95-9d2de4eb1eb7",
    "scrolled": true
   },
   "outputs": [],
   "source": [
    "# installing cocoapi (not from https://github.com/cocodataset/cocoapi.git)\n",
    "if os.path.isdir('cocoapi') == False:\n",
    "    !git clone https://github.com/philferriere/cocoapi.git\n",
    "%cd cocoapi/PythonAPI\n",
    "!make\n",
    "!make install\n",
    "!python setup.py install\n",
    "%cd ../.."
   ]
  },
  {
   "cell_type": "code",
   "execution_count": null,
   "metadata": {
    "colab": {
     "base_uri": "https://localhost:8080/"
    },
    "id": "CsOhRbyrph8C",
    "outputId": "3e30be27-4d84-4645-d06d-0cdfd1cf04a2",
    "scrolled": true
   },
   "outputs": [],
   "source": [
    "# installing apex\n",
    "if os.path.isdir('apex') == False:\n",
    "    !git clone https://github.com/NVIDIA/apex.git\n",
    "%cd apex\n",
    "!python setup.py install #--cuda_ext --cpp_ext\n",
    "%cd .."
   ]
  },
  {
   "cell_type": "code",
   "execution_count": null,
   "metadata": {
    "id": "00Kq51xpBQBp",
    "scrolled": true
   },
   "outputs": [],
   "source": [
    "try:\n",
    "    from apex import amp\n",
    "except ImportError:\n",
    "    raise ImportError('Use APEX for mixed precision via apex.amp')"
   ]
  },
  {
   "cell_type": "code",
   "execution_count": null,
   "metadata": {
    "colab": {
     "base_uri": "https://localhost:8080/"
    },
    "id": "ZZkppSDsnGiv",
    "outputId": "5e393115-656e-4232-e1b1-a75f4d92455e",
    "scrolled": true
   },
   "outputs": [],
   "source": [
    "# Installing the actual SGG library\n",
    "!python setup.py build develop"
   ]
  },
  {
   "cell_type": "code",
   "execution_count": null,
   "metadata": {
    "id": "faFXFMYnfOJq",
    "scrolled": true
   },
   "outputs": [],
   "source": [
    "import argparse\n",
    "import os\n",
    "from PIL import Image\n",
    "import json\n",
    "import torch\n",
    "from tqdm import tqdm_notebook # module for tracking the training process"
   ]
  },
  {
   "cell_type": "code",
   "execution_count": null,
   "metadata": {
    "id": "w-NShEArkrCz",
    "scrolled": true
   },
   "outputs": [],
   "source": [
    "# Importing local dependencies\n",
    "from maskrcnn_benchmark.utils.env import setup_environment\n",
    "from maskrcnn_benchmark.config import cfg\n",
    "from maskrcnn_benchmark.data_2 import make_data_loader\n",
    "from maskrcnn_benchmark.engine_2.inference import inference\n",
    "from maskrcnn_benchmark.modeling.detector import build_detection_model\n",
    "from maskrcnn_benchmark.utils.checkpoint import DetectronCheckpointer\n",
    "from maskrcnn_benchmark.utils.collect_env import collect_env_info\n",
    "from maskrcnn_benchmark.utils.comm import synchronize, get_rank\n",
    "from maskrcnn_benchmark.utils.logger import setup_logger\n",
    "from maskrcnn_benchmark.utils.miscellaneous import mkdir"
   ]
  },
  {
   "cell_type": "code",
   "execution_count": null,
   "metadata": {
    "colab": {
     "base_uri": "https://localhost:8080/"
    },
    "id": "bMtjIaGh8wpE",
    "outputId": "16cde6e4-c040-444d-ff65-6e84226db50a",
    "scrolled": true
   },
   "outputs": [],
   "source": [
    "!cp config.yml upload_causal_motif_sgdet/config.yml\n",
    "!cp last_checkpoint upload_causal_motif_sgdet/last_checkpoint\n",
    "!mkdir glove\n",
    "!mkdir checkpoints\n",
    "!mkdir checkpoints/custom_images\n",
    "!mkdir checkpoints/your_output_path"
   ]
  },
  {
   "cell_type": "code",
   "execution_count": null,
   "metadata": {
    "id": "6ulHe2NzBcwH",
    "scrolled": true
   },
   "outputs": [],
   "source": [
    "def im2scenegraph(tst_img, MPDC):\n",
    "    # CUSTOMIZABLES FOR RUNNING AN SGG\n",
    "\n",
    "    # The Glove Directory Path\n",
    "    GD = 'glove/'\n",
    "\n",
    "    # Pretrained Model Path\n",
    "    #MPDC = 'D:\\\\Downloads\\\\upload_causal_motif_sgdet'\n",
    "\n",
    "    # Output Directory if default VGG dataset is used\n",
    "    OD = 'upload_causal_motif_sgdet/'\n",
    "\n",
    "    # If evaluation should be done on custom images, set this 'True'\n",
    "    TCE = 'True'\n",
    "\n",
    "    # The path for custom images for SGG detection, if TEST.CUSTUM_EVAL is 'True'\n",
    "    TCP = 'checkpoints/custom_images'\n",
    "\n",
    "    # The path for output of SGG for custom images, if TEST.CUSTUM_EVAL is 'True'\n",
    "    DSD = 'checkpoints/your_output_path'\n",
    "\n",
    "    configuration_file = \"configs/e2e_relation_X_101_32_8_FPN_1x.yaml\"\n",
    "    option_txt = ['MODEL.ROI_RELATION_HEAD.USE_GT_BOX', 'False', 'MODEL.ROI_RELATION_HEAD.USE_GT_OBJECT_LABEL', 'False',\n",
    "    'MODEL.ROI_RELATION_HEAD.PREDICTOR', 'CausalAnalysisPredictor', 'MODEL.ROI_RELATION_HEAD.CAUSAL.EFFECT_TYPE', 'TDE',\n",
    "    'MODEL.ROI_RELATION_HEAD.CAUSAL.FUSION_TYPE', 'sum', 'MODEL.ROI_RELATION_HEAD.CAUSAL.CONTEXT_LAYER', 'motifs',\n",
    "    'TEST.IMS_PER_BATCH', '1', 'DTYPE', 'float16', 'GLOVE_DIR', GD, 'MODEL.PRETRAINED_DETECTOR_CKPT', MPDC,\n",
    "    'OUTPUT_DIR', OD, 'TEST.CUSTUM_EVAL', TCE, 'TEST.CUSTUM_PATH', TCP, 'DETECTED_SGG_DIR', DSD]\n",
    "    parser = argparse.ArgumentParser(description=\"PyTorch Object Detection Inference\")\n",
    "    parser.add_argument(\n",
    "        \"--config-file\",\n",
    "        default=\"/private/home/fmassa/github/detectron.pytorch_v2/configs/e2e_faster_rcnn_R_50_C4_1x_caffe2.yaml\",\n",
    "        metavar=\"FILE\",\n",
    "        help=\"path to config file\",\n",
    "    )\n",
    "    parser.add_argument(\"--local_rank\", type=int, default=0)\n",
    "    parser.add_argument(\n",
    "        \"opts\",\n",
    "        help=\"Modify config options using the command-line\",\n",
    "        default=None,\n",
    "        nargs=argparse.REMAINDER,\n",
    "    )\n",
    "\n",
    "    args = parser.parse_args(args=[])\n",
    "\n",
    "    num_gpus = int(os.environ[\"WORLD_SIZE\"]) if \"WORLD_SIZE\" in os.environ else 1\n",
    "    distributed = num_gpus > 1\n",
    "\n",
    "    if distributed:\n",
    "        torch.cuda.set_device(args.local_rank)\n",
    "        torch.distributed.init_process_group(\n",
    "            backend=\"nccl\", init_method=\"env://\"\n",
    "        )\n",
    "        synchronize()\n",
    "\n",
    "    cfg.merge_from_file(configuration_file)\n",
    "    cfg.merge_from_list(option_txt)\n",
    "    #print(\"Merging from list:\")\n",
    "    #print(args.opts)\n",
    "    #cfg.merge_from_file(args.config_file)\n",
    "    #cfg.merge_from_list(args.opts)\n",
    "    cfg.freeze()\n",
    "\n",
    "    save_dir = \"\"\n",
    "    logger = setup_logger(\"maskrcnn_benchmark\", save_dir, get_rank())\n",
    "    logger.info(\"Using {} GPUs\".format(num_gpus))\n",
    "    logger.info(cfg)\n",
    "\n",
    "    logger.info(\"Collecting env info (might take some time)\")\n",
    "    logger.info(\"\\n\" + collect_env_info())\n",
    "\n",
    "    model = build_detection_model(cfg)\n",
    "    model.to(cfg.MODEL.DEVICE)\n",
    "\n",
    "    # Initialize mixed-precision if necessary\n",
    "    use_mixed_precision = cfg.DTYPE == 'float16'\n",
    "    amp_handle = amp.init(enabled=use_mixed_precision, verbose=cfg.AMP_VERBOSE)\n",
    "\n",
    "    output_dir = cfg.OUTPUT_DIR\n",
    "    print(\"ESP - Output Dir: \", output_dir)\n",
    "    #print(\"Printing CFG: \\n\", cfg)\n",
    "    #print(\"Printing Model: \\n\", model)\n",
    "    checkpointer = DetectronCheckpointer(cfg, model, save_dir=output_dir)\n",
    "    print(\"cfg.MODEL.WEIGHT: \", cfg.MODEL.WEIGHT)\n",
    "    _ = checkpointer.load(cfg.MODEL.WEIGHT)\n",
    "\n",
    "    iou_types = (\"bbox\",)\n",
    "    if cfg.MODEL.MASK_ON:\n",
    "        iou_types = iou_types + (\"segm\",)\n",
    "    if cfg.MODEL.KEYPOINT_ON:\n",
    "        iou_types = iou_types + (\"keypoints\",)\n",
    "    if cfg.MODEL.RELATION_ON:\n",
    "        iou_types = iou_types + (\"relations\", )\n",
    "    if cfg.MODEL.ATTRIBUTE_ON:\n",
    "        iou_types = iou_types + (\"attributes\", )\n",
    "    output_folders = [None] * len(cfg.DATASETS.TEST)\n",
    "    dataset_names = cfg.DATASETS.TEST\n",
    "    if cfg.OUTPUT_DIR:\n",
    "        for idx, dataset_name in enumerate(dataset_names):\n",
    "            output_folder = os.path.join(cfg.OUTPUT_DIR, \"inference\", dataset_name)\n",
    "            mkdir(output_folder)\n",
    "            output_folders[idx] = output_folder\n",
    "\n",
    "    #tst_img = Image.open('tools/horse.jpg').convert(\"RGB\")\n",
    "    data_loaders_val, custom_data_info = make_data_loader(cfg, tst_img, mode=\"test\", is_distributed=distributed)\n",
    "    for output_folder, dataset_name, data_loader_val in zip(output_folders, dataset_names, data_loaders_val):\n",
    "        custom_prediction = inference(\n",
    "            cfg,\n",
    "            model,\n",
    "            data_loader_val,\n",
    "            dataset_name=dataset_name,\n",
    "            iou_types=iou_types,\n",
    "            box_only=False if cfg.MODEL.RETINANET_ON else cfg.MODEL.RPN_ONLY,\n",
    "            device=cfg.MODEL.DEVICE,\n",
    "            expected_results=cfg.TEST.EXPECTED_RESULTS,\n",
    "            expected_results_sigma_tol=cfg.TEST.EXPECTED_RESULTS_SIGMA_TOL,\n",
    "            output_folder=output_folder,\n",
    "        )\n",
    "        synchronize()\n",
    "        output_dict = {\n",
    "            'custom_data_info': custom_data_info,\n",
    "            'custom_prediction': custom_prediction\n",
    "        }\n",
    "        #cd ..\n",
    "        return output_dict"
   ]
  },
  {
   "cell_type": "code",
   "execution_count": null,
   "metadata": {
    "colab": {
     "base_uri": "https://localhost:8080/"
    },
    "id": "dlwJj3JR1i1B",
    "outputId": "9e21e87e-6cb5-4645-a3f5-9b0a484af93e",
    "scrolled": true
   },
   "outputs": [],
   "source": [
    "device = torch.device(\"cuda:0\" if torch.cuda.is_available() else \"cpu\")\n",
    "print(device)"
   ]
  },
  {
   "cell_type": "code",
   "execution_count": null,
   "metadata": {
    "id": "DPWcNR0iwFLQ",
    "scrolled": true
   },
   "outputs": [],
   "source": [
    "import h5py\n",
    "import random\n",
    "import numpy as np\n",
    "from matplotlib.pyplot import imshow\n",
    "from PIL import Image, ImageDraw"
   ]
  },
  {
   "cell_type": "code",
   "execution_count": null,
   "metadata": {
    "id": "k1TaeKAowsf_",
    "scrolled": true
   },
   "outputs": [],
   "source": [
    "def draw_single_box(pic, box, color='red', draw_info=None):\n",
    "    draw = ImageDraw.Draw(pic)\n",
    "    x1,y1,x2,y2 = int(box[0]), int(box[1]), int(box[2]), int(box[3])\n",
    "    #size = np.array(get_size(pic.size))\n",
    "    #print(size)\n",
    "    #lol = size/100\n",
    "    #lol[0] = int(lol[0])\n",
    "    #lol[1] = int(lol[1])\n",
    "    #print(lol)\n",
    "    #x1 = x1 * lol[0]\n",
    "    #x2 = x2 * lol[0]\n",
    "    #y1 = y1 * lol[1]\n",
    "    #y2 = y2 * lol[1]\n",
    "    draw.rectangle(((x1, y1), (x2, y2)), outline=color)\n",
    "    if draw_info:\n",
    "        draw.rectangle(((x1, y1), (x1+50, y1+10)), fill=color)\n",
    "        info = draw_info\n",
    "        draw.text((x1, y1), info)\n",
    "        \n",
    "def print_list(name, input_list, scores=None):\n",
    "    for i, item in enumerate(input_list):\n",
    "        if scores == None:\n",
    "            print(name + ' ' + str(i) + ': ' + str(item))\n",
    "        else:\n",
    "            print(name + ' ' + str(i) + ': ' + str(item) + '; score: ' + str(scores[i]))\n",
    "    \n",
    "def draw_image(pic, boxes, box_labels, rel_labels, box_scores=None, rel_scores=None):\n",
    "    orig_size = pic.size\n",
    "    size = get_size(orig_size)\n",
    "    pic_r = pic.resize(size)\n",
    "    print('orig_size = '+str(orig_size))\n",
    "    print('size = '+str(size))\n",
    "    #print('boxes = '+str(boxes))\n",
    "    #num_obj = len(boxes)\n",
    "    #for i in range(num_obj):\n",
    "    #    info = str(i) + '_' + box_labels[i]\n",
    "    #    draw_single_box(pic, boxes[i], draw_info=info)\n",
    "    display(pic_r)\n",
    "    print('*' * 50)\n",
    "    print_list('box_labels', box_labels, box_scores)\n",
    "    print('*' * 50)\n",
    "    print_list('rel_labels', rel_labels, rel_scores)\n",
    "    \n",
    "    return None\n",
    "\n",
    "def get_size(image_size):\n",
    "    min_size = 300\n",
    "    max_size = 500\n",
    "    w, h = image_size\n",
    "    size = min_size\n",
    "    if max_size is not None:\n",
    "        min_original_size = float(min((w, h)))\n",
    "        max_original_size = float(max((w, h)))\n",
    "        if max_original_size / min_original_size * size > max_size:\n",
    "            size = int(round(max_size * min_original_size / max_original_size))\n",
    "    if (w <= h and w == size) or (h <= w and h == size):\n",
    "        return (w, h)\n",
    "    if w < h:\n",
    "        ow = size\n",
    "        oh = int(size * h / w)\n",
    "    else:\n",
    "        oh = size\n",
    "        ow = int(size * w / h)\n",
    "    return (ow, oh)"
   ]
  },
  {
   "cell_type": "code",
   "execution_count": null,
   "metadata": {
    "colab": {
     "base_uri": "https://localhost:8080/"
    },
    "id": "HKCwa8kBBgov",
    "outputId": "060fca87-3d51-449b-d278-f76805f3b013",
    "scrolled": true
   },
   "outputs": [],
   "source": [
    "from PIL import Image\n",
    "import s3fs\n",
    "\n",
    "fs = s3fs.S3FileSystem()\n",
    "\n",
    "#f = fs.open(f'https://cs.stanford.edu/people/rak248/VG_100K/2370463.jpg')\n",
    "#f = fs.open(f's3://jaleed-bucket/vg/images/2316655.jpg')\n",
    "f = fs.open(f's3://jaleed-bucket/vg/images/2317213.jpg')\n",
    "image = Image.open(f)\n",
    "pretrained_model_path = 'upload_causal_motif_sgdet/'\n",
    "output = im2scenegraph(image, pretrained_model_path)\n",
    "\n",
    "# load the following to files from DETECTED_SGG_DIR\n",
    "custom_prediction = output['custom_prediction']\n",
    "custom_data_info = output['custom_data_info']"
   ]
  },
  {
   "cell_type": "code",
   "execution_count": null,
   "metadata": {},
   "outputs": [],
   "source": [
    "# Display results\n",
    "image_idx = 0\n",
    "box_topk = 6 # select top k bounding boxes\n",
    "rel_topk = 20 # select top k relationships\n",
    "ind_to_classes = custom_data_info['ind_to_classes']\n",
    "ind_to_predicates = custom_data_info['ind_to_predicates']\n",
    "boxes = custom_prediction[str(image_idx)]['bbox'][:box_topk]\n",
    "box_labels = custom_prediction[str(image_idx)]['bbox_labels'][:box_topk]\n",
    "box_scores = custom_prediction[str(image_idx)]['bbox_scores'][:box_topk]\n",
    "all_rel_labels = custom_prediction[str(image_idx)]['rel_labels']\n",
    "all_rel_scores = custom_prediction[str(image_idx)]['rel_scores']\n",
    "all_rel_pairs = custom_prediction[str(image_idx)]['rel_pairs']\n",
    "\n",
    "for i in range(len(box_labels)):\n",
    "    box_labels[i] = ind_to_classes[box_labels[i]]\n",
    "\n",
    "rel_labels = []\n",
    "rel_scores = []\n",
    "for i in range(len(all_rel_pairs)):\n",
    "    if all_rel_pairs[i][0] < box_topk and all_rel_pairs[i][1] < box_topk:\n",
    "        rel_scores.append(all_rel_scores[i])\n",
    "        label = str(all_rel_pairs[i][0]) + '_' + box_labels[all_rel_pairs[i][0]] + ' => ' + ind_to_predicates[all_rel_labels[i]] + ' => ' + str(all_rel_pairs[i][1]) + '_' + box_labels[all_rel_pairs[i][1]]\n",
    "        rel_labels.append(label)\n",
    "\n",
    "rel_labels = rel_labels[:rel_topk]\n",
    "rel_scores = rel_scores[:rel_topk]\n",
    "\n",
    "draw_image(image, boxes, box_labels, rel_labels, box_scores=box_scores, rel_scores=rel_scores)"
   ]
  },
  {
   "cell_type": "code",
   "execution_count": null,
   "metadata": {},
   "outputs": [],
   "source": []
  }
 ],
 "metadata": {
  "accelerator": "GPU",
  "colab": {
   "collapsed_sections": [],
   "name": "SGG_Custom.ipynb",
   "provenance": []
  },
  "instance_type": "ml.g4dn.xlarge",
  "kernelspec": {
   "display_name": "Python 3 (PyTorch 1.6 Python 3.6 GPU Optimized)",
   "language": "python",
   "name": "python3__SAGEMAKER_INTERNAL__arn:aws:sagemaker:eu-west-1:470317259841:image/pytorch-1.6-gpu-py36-cu110-ubuntu18.04-v3"
  },
  "language_info": {
   "codemirror_mode": {
    "name": "ipython",
    "version": 3
   },
   "file_extension": ".py",
   "mimetype": "text/x-python",
   "name": "python",
   "nbconvert_exporter": "python",
   "pygments_lexer": "ipython3",
   "version": "3.6.13"
  }
 },
 "nbformat": 4,
 "nbformat_minor": 4
}
